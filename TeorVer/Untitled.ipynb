{
 "cells": [
  {
   "cell_type": "markdown",
   "id": "d0cd2871-0faa-4523-a15b-bbc673dabc05",
   "metadata": {},
   "source": [
    "# Загрузка библиотек"
   ]
  },
  {
   "cell_type": "code",
   "execution_count": 100,
   "id": "f9bddf1c-d58f-4595-bb5d-71d284712ba1",
   "metadata": {},
   "outputs": [],
   "source": [
    "import numpy as np\n",
    "import pandas as pd\n",
    "import math\n",
    "import matplotlib.pyplot as plt\n",
    "from scipy import stats\n",
    "from sklearn.linear_model import LinearRegression\n",
    "from sklearn.metrics import r2_score"
   ]
  },
  {
   "cell_type": "markdown",
   "id": "83de5e59-f98a-4240-a910-c87cbc176797",
   "metadata": {},
   "source": [
    "# Загрузка данных"
   ]
  },
  {
   "cell_type": "code",
   "execution_count": 101,
   "id": "1c658b8f-0a88-4473-a70d-3e3ebf385a91",
   "metadata": {},
   "outputs": [],
   "source": [
    "X = np.array([5, 10, 15, 20, 25, 30, 35, 40, 45, 50,\n",
    "              55, 60, 65, 70, 75, 80, 85, 90, 95, 100])\n",
    "Y = np.array([50, 65, 70, 75, 80, 85, 90, 92, 95, 98,\n",
    "              100, 100, 100, 100, 100, 100, 100, 100, 100, 100])\n",
    "Data = pd.DataFrame({'Время подготовки': X, 'Результат': Y}) # для проверок и t-теста"
   ]
  },
  {
   "cell_type": "markdown",
   "id": "a750ea7c-3139-425e-adbd-3d3aab02074c",
   "metadata": {},
   "source": [
    "# Описательная статистика"
   ]
  },
  {
   "cell_type": "markdown",
   "id": "43545fc2-ea2f-4cb3-a660-9e44b1d5d915",
   "metadata": {},
   "source": [
    "## Создание функций для описательной статистики"
   ]
  },
  {
   "cell_type": "code",
   "execution_count": 102,
   "id": "87500628-6025-446d-97a6-482d305e86a4",
   "metadata": {},
   "outputs": [],
   "source": [
    "# Функция для вычисления среднего\n",
    "def mean(data):\n",
    "    total = 0.0\n",
    "    for v in data:\n",
    "        total += v\n",
    "    return total / len(data)\n",
    "\n",
    "# Функция для вычисления медианы\n",
    "def median(data):\n",
    "    sorted_data = sorted(data)\n",
    "    m = len(sorted_data)\n",
    "    mid = m // 2\n",
    "    if m % 2 == 0:\n",
    "        return (sorted_data[mid - 1] + sorted_data[mid]) / 2\n",
    "    else:\n",
    "        return sorted_data[mid]\n",
    "\n",
    "# Функции для дисперсии (с несмещённой оценкой) и стандартного отклонения\n",
    "def variance(data):\n",
    "    m = mean(data)\n",
    "    s = 0.0\n",
    "    for v in data:\n",
    "        s += (v - m) ** 2\n",
    "    # делим на (n-1) для несмещённой оценки\n",
    "    return s / (len(data) - 1)\n",
    "\n",
    "def std_dev(data):\n",
    "    return math.sqrt(variance(data))\n",
    "\n",
    "def descriptive_stats(data):\n",
    "    return {\n",
    "        'среднее': mean(data),\n",
    "        'медиана': median(data),\n",
    "        'дисперсия': variance(data),\n",
    "        'СКО': std_dev(data)\n",
    "    }\n",
    "desc_X = descriptive_stats(X)\n",
    "desc_Y = descriptive_stats(Y)"
   ]
  },
  {
   "cell_type": "markdown",
   "id": "a9af3af5-20c5-4f4e-a480-cf97b5e11a58",
   "metadata": {},
   "source": [
    "## Вывод описательной статистики\n",
    "Для X: среднее и медиана оба равны 52.5, что соответствует равномерному распределению от 5 до 100.\n",
    "Для Y: среднее = 90, медиана = 99. Это говорит о сильном скошенном распределении вправо (многие студенты получили 100 баллов), что подтверждается более высокой медианной по сравнению со средним."
   ]
  },
  {
   "cell_type": "code",
   "execution_count": 103,
   "id": "13756d1b-f9b7-4945-aeda-5f82133fec9b",
   "metadata": {},
   "outputs": [
    {
     "name": "stdout",
     "output_type": "stream",
     "text": [
      "Описательная статистика:\n",
      "X (время подготовки): {'среднее': 52.5, 'медиана': 52.5, 'дисперсия': 875.0, 'СКО': 29.58039891549808}\n",
      "Y (результат экзамена): {'среднее': 90.0, 'медиана': 99.0, 'дисперсия': 214.10526315789474, 'СКО': 14.632336216677594}\n"
     ]
    }
   ],
   "source": [
    "print(\"Описательная статистика:\")\n",
    "print(\"X (время подготовки):\", desc_X)\n",
    "print(\"Y (результат экзамена):\", desc_Y)"
   ]
  },
  {
   "cell_type": "markdown",
   "id": "b122a85c-5a74-4e32-bbef-32df269db9a0",
   "metadata": {},
   "source": [
    "Проверка:"
   ]
  },
  {
   "cell_type": "code",
   "execution_count": 104,
   "id": "216ed4ae-0014-4222-91d9-a226e406db1e",
   "metadata": {},
   "outputs": [
    {
     "data": {
      "text/html": [
       "<div>\n",
       "<style scoped>\n",
       "    .dataframe tbody tr th:only-of-type {\n",
       "        vertical-align: middle;\n",
       "    }\n",
       "\n",
       "    .dataframe tbody tr th {\n",
       "        vertical-align: top;\n",
       "    }\n",
       "\n",
       "    .dataframe thead th {\n",
       "        text-align: right;\n",
       "    }\n",
       "</style>\n",
       "<table border=\"1\" class=\"dataframe\">\n",
       "  <thead>\n",
       "    <tr style=\"text-align: right;\">\n",
       "      <th></th>\n",
       "      <th>Время подготовки</th>\n",
       "      <th>Результат</th>\n",
       "    </tr>\n",
       "  </thead>\n",
       "  <tbody>\n",
       "    <tr>\n",
       "      <th>count</th>\n",
       "      <td>20.000000</td>\n",
       "      <td>20.000000</td>\n",
       "    </tr>\n",
       "    <tr>\n",
       "      <th>mean</th>\n",
       "      <td>52.500000</td>\n",
       "      <td>90.000000</td>\n",
       "    </tr>\n",
       "    <tr>\n",
       "      <th>std</th>\n",
       "      <td>29.580399</td>\n",
       "      <td>14.632336</td>\n",
       "    </tr>\n",
       "    <tr>\n",
       "      <th>min</th>\n",
       "      <td>5.000000</td>\n",
       "      <td>50.000000</td>\n",
       "    </tr>\n",
       "    <tr>\n",
       "      <th>25%</th>\n",
       "      <td>28.750000</td>\n",
       "      <td>83.750000</td>\n",
       "    </tr>\n",
       "    <tr>\n",
       "      <th>50%</th>\n",
       "      <td>52.500000</td>\n",
       "      <td>99.000000</td>\n",
       "    </tr>\n",
       "    <tr>\n",
       "      <th>75%</th>\n",
       "      <td>76.250000</td>\n",
       "      <td>100.000000</td>\n",
       "    </tr>\n",
       "    <tr>\n",
       "      <th>max</th>\n",
       "      <td>100.000000</td>\n",
       "      <td>100.000000</td>\n",
       "    </tr>\n",
       "  </tbody>\n",
       "</table>\n",
       "</div>"
      ],
      "text/plain": [
       "       Время подготовки   Результат\n",
       "count         20.000000   20.000000\n",
       "mean          52.500000   90.000000\n",
       "std           29.580399   14.632336\n",
       "min            5.000000   50.000000\n",
       "25%           28.750000   83.750000\n",
       "50%           52.500000   99.000000\n",
       "75%           76.250000  100.000000\n",
       "max          100.000000  100.000000"
      ]
     },
     "execution_count": 104,
     "metadata": {},
     "output_type": "execute_result"
    }
   ],
   "source": [
    "Data.describe()"
   ]
  },
  {
   "cell_type": "code",
   "execution_count": 105,
   "id": "c72fb28c-c719-428a-a515-3083a2587f68",
   "metadata": {},
   "outputs": [
    {
     "data": {
      "text/plain": [
       "Время подготовки    875.000000\n",
       "Результат           214.105263\n",
       "dtype: float64"
      ]
     },
     "execution_count": 105,
     "metadata": {},
     "output_type": "execute_result"
    }
   ],
   "source": [
    "Data.var()"
   ]
  },
  {
   "cell_type": "markdown",
   "id": "6945148a-2ebe-483d-ad8f-64641f80b6c4",
   "metadata": {},
   "source": [
    "## Вывод гистограмм\n",
    "Гистограмма X показывает равномерный рост числа студентов по интервалам времени (нет скошенности).\n",
    "Гистограмма Y показывает, что большинство студентов набрали максимально возможные баллы (100), что создаёт «горку» справа и отражает потолочный эффект."
   ]
  },
  {
   "cell_type": "code",
   "execution_count": 106,
   "id": "7507e753-5415-43ff-99b3-8f5ec6e8754e",
   "metadata": {},
   "outputs": [
    {
     "data": {
      "image/png": "[encoded data removed]",
      "text/plain": [
       "<Figure size 1200x500 with 2 Axes>"
      ]
     },
     "metadata": {},
     "output_type": "display_data"
    }
   ],
   "source": [
    "# Гистограммы\n",
    "plt.figure(figsize=(12, 5))\n",
    "\n",
    "plt.subplot(1, 2, 1)\n",
    "plt.hist(X, bins=20, color='skyblue', edgecolor='black')\n",
    "plt.title(\"Гистограмма: Время подготовки (X)\")\n",
    "plt.xlabel(\"Часы\")\n",
    "plt.ylabel(\"Частота\")\n",
    "\n",
    "plt.subplot(1, 2, 2)\n",
    "plt.hist(Y, bins=20, color='salmon', edgecolor='black')\n",
    "plt.title(\"Гистограмма: Результат экзамена (Y)\")\n",
    "plt.xlabel(\"Баллы\")\n",
    "plt.ylabel(\"Частота\")\n",
    "\n",
    "plt.tight_layout()\n",
    "plt.show()"
   ]
  },
  {
   "cell_type": "markdown",
   "id": "677d7b40-f364-461e-b53b-8f34a0eb2f04",
   "metadata": {},
   "source": [
    "# Корреляционный анализ"
   ]
  },
  {
   "cell_type": "markdown",
   "id": "5db34fe5-0bcc-4925-8e65-61d372b85847",
   "metadata": {},
   "source": [
    "## Вычисление корреляции Писрона"
   ]
  },
  {
   "cell_type": "code",
   "execution_count": 107,
   "id": "357dc8f0-ab3c-4585-ab4c-6a812819f88d",
   "metadata": {},
   "outputs": [
    {
     "name": "stdout",
     "output_type": "stream",
     "text": [
      "Корреляционный анализ\n",
      "Коэффициент корреляции Пирсона r = 0.8518\n"
     ]
    }
   ],
   "source": [
    "def pearson_correlation(x, y):\n",
    "    m_x = mean(x)\n",
    "    m_y = mean(y)\n",
    "    # вычисляем ковариацию (несмещённую: делим на n-1)\n",
    "    cov = 0.0\n",
    "    for xi, yi in zip(x, y):\n",
    "        cov += (xi - m_x) * (yi - m_y)\n",
    "    cov /= (len(x) - 1)\n",
    "    # вычисляем стандартные отклонения\n",
    "    std_x = std_dev(x)\n",
    "    std_y = std_dev(y)\n",
    "    return cov / (std_x * std_y)\n",
    "\n",
    "r = pearson_correlation(X, Y)\n",
    "print(\"Корреляционный анализ\")\n",
    "print(f\"Коэффициент корреляции Пирсона r = {r:.4f}\")"
   ]
  },
  {
   "cell_type": "markdown",
   "id": "562cb4d4-2c3f-418c-869b-c036e0dc428f",
   "metadata": {},
   "source": [
    "Проверка:"
   ]
  },
  {
   "cell_type": "code",
   "execution_count": 108,
   "id": "90532a5e-d532-4d66-8104-d6aeae57c6c3",
   "metadata": {},
   "outputs": [
    {
     "name": "stdout",
     "output_type": "stream",
     "text": [
      "Коэффициент корреляции Пирсона: 0.8518\n"
     ]
    }
   ],
   "source": [
    "corr, _ = stats.pearsonr(X, Y)\n",
    "print(f\"Коэффициент корреляции Пирсона: {corr:.4f}\")"
   ]
  },
  {
   "cell_type": "markdown",
   "id": "f16ed927-28e1-4732-8371-ecb57ab0fd0d",
   "metadata": {},
   "source": [
    "## Проверка значимости при alpha = 0.05\n",
    "r = 0.8518 указывает на сильную положительную корреляцию между временем подготовки и результатом."
   ]
  },
  {
   "cell_type": "code",
   "execution_count": 109,
   "id": "83c79b1d-743b-44f1-abd1-a071b5c48121",
   "metadata": {},
   "outputs": [
    {
     "name": "stdout",
     "output_type": "stream",
     "text": [
      "t-статистика для проверки значимости = 6.8984\n",
      "Критическое значение t (df=18, alpha=0.05) = 2.1\n",
      "Вывод: |t| > t_critical => корреляция статистически значима (alpha=0.05).\n"
     ]
    }
   ],
   "source": [
    "n = len(X)\n",
    "t_stat = r * math.sqrt((n - 2) / (1 - r**2))\n",
    "\n",
    "# Для двустороннего теста при alpha=0.05 и df=18 критическое t = 2.1 по таблице распределения Стьюдента\n",
    "t_critical = 2.1 \n",
    "\n",
    "print(f\"t-статистика для проверки значимости = {t_stat:.4f}\")\n",
    "print(f\"Критическое значение t (df=18, alpha=0.05) = {t_critical:.1f}\")\n",
    "\n",
    "if abs(t_stat) > t_critical:\n",
    "    print(\"Вывод: |t| > t_critical => корреляция статистически значима (alpha=0.05).\")\n",
    "else:\n",
    "    print(\"Вывод: |t| <= t_critical => корреляция не значима.\")\n"
   ]
  },
  {
   "cell_type": "markdown",
   "id": "94cde88f-e611-42d0-bf56-5e9d9558bc00",
   "metadata": {},
   "source": [
    "# Построение регрессионной модели"
   ]
  },
  {
   "cell_type": "markdown",
   "id": "430682aa-a697-4d8a-a9ce-18f6cb85aadd",
   "metadata": {},
   "source": [
    "## Вычисление коэфициентов\n",
    "Коэффициент b (наклон): показывает, на сколько в среднем изменяется зависимая переменная Y при увеличении независимой X на единицу.\n",
    "Коэффициент a (свободный член): Это значение Y, которое модель прогнозирует при X = 0"
   ]
  },
  {
   "cell_type": "code",
   "execution_count": 110,
   "id": "4b0c2ed3-5e8e-4d2a-8314-ef3810436867",
   "metadata": {},
   "outputs": [
    {
     "name": "stdout",
     "output_type": "stream",
     "text": [
      "Коэффициент b (наклон) = 0.4214\n",
      "Коэффициент a (свободный член) = 67.8789\n"
     ]
    }
   ],
   "source": [
    "m_x = mean(X)\n",
    "m_y = mean(Y)\n",
    "\n",
    "sum_xy_dev = 0.0\n",
    "sum_xx_dev = 0.0\n",
    "for xi, yi in zip(X, Y):\n",
    "    sum_xy_dev += (xi - m_x) * (yi - m_y)\n",
    "    sum_xx_dev += (xi - m_x) ** 2\n",
    "\n",
    "b = sum_xy_dev / sum_xx_dev\n",
    "a = m_y - b * m_x\n",
    "print(f\"Коэффициент b (наклон) = {b:.4f}\")\n",
    "print(f\"Коэффициент a (свободный член) = {a:.4f}\")"
   ]
  },
  {
   "cell_type": "markdown",
   "id": "32dbafc9-4158-4d71-b746-038779e0021c",
   "metadata": {},
   "source": [
    "## Оценка качества модели\n",
    "b = 0.4214: каждые дополнительные 10 часов подготовки дают в среднем прирост = 4.214 балла.\n",
    "a = 67.879: если бы студент не готовился вовсе (X=0), модель предсказывает = 67.9 балла.\n",
    "R^2 = 0.7256 (72.6%) говорит, что большая часть вариативности результата объясняется временем подготовки, однако остаточные 27.4% обусловлены другими факторами (или шумом)."
   ]
  },
  {
   "cell_type": "code",
   "execution_count": 111,
   "id": "766ddf6f-79d2-4012-aa77-add4ea5677c4",
   "metadata": {},
   "outputs": [
    {
     "name": "stdout",
     "output_type": "stream",
     "text": [
      "Коэффициент детерминации R^2 = 0.7256\n",
      "Около 72.6% дисперсии Y объясняется моделью Y = a + bX.\n"
     ]
    }
   ],
   "source": [
    "ss_total = 0.0\n",
    "ss_reg = 0.0\n",
    "for xi, yi in zip(X, Y):\n",
    "    yi_pred = a + b * xi\n",
    "    ss_total += (yi - m_y) ** 2\n",
    "    ss_reg += (yi_pred - m_y) ** 2\n",
    "\n",
    "r2 = ss_reg / ss_total\n",
    "print(f\"Коэффициент детерминации R^2 = {r2:.4f}\")\n",
    "print(\"Около {:.1f}% дисперсии Y объясняется моделью Y = a + bX.\".format(r2 * 100))"
   ]
  },
  {
   "cell_type": "code",
   "execution_count": 112,
   "id": "2ed3b13d-6d7d-40f1-b023-9368c0b45dbc",
   "metadata": {},
   "outputs": [
    {
     "data": {
      "image/png": "[encoded data removed]",
      "text/plain": [
       "<Figure size 800x500 with 1 Axes>"
      ]
     },
     "metadata": {},
     "output_type": "display_data"
    }
   ],
   "source": [
    "plt.figure(figsize=(8, 5))\n",
    "plt.scatter(X, Y, color='blue', label='Наблюдения')\n",
    "# вычислим значения Ŷ для всех Xi\n",
    "Y_pred_line = [a + b * xi for xi in X]\n",
    "plt.plot(X, Y_pred_line, color='red', label='Линейная регрессия')\n",
    "plt.title(\"Линейная регрессия\")\n",
    "plt.xlabel(\"X – Время подготовки (часы)\")\n",
    "plt.ylabel(\"Y – Результат экзамена (баллы)\")\n",
    "plt.legend()\n",
    "plt.grid(True)\n",
    "plt.show()"
   ]
  },
  {
   "cell_type": "markdown",
   "id": "7af74749-e5c0-46f5-9c94-5dd232137c63",
   "metadata": {},
   "source": [
    "# Проверка гипотезы о равенстве среднего результата Y для студентов, готовившихся менее 50 часов и более 50 часов"
   ]
  },
  {
   "cell_type": "markdown",
   "id": "2825198b-3819-4079-bb92-b94c7508789e",
   "metadata": {},
   "source": [
    "## Подготовка данных\n",
    "Разделим данные на 2 группы и вычислим дисперсию с ожиданием"
   ]
  },
  {
   "cell_type": "code",
   "execution_count": 113,
   "id": "282c50d7-85bc-4965-b7bb-51fd212c76b9",
   "metadata": {},
   "outputs": [],
   "source": [
    "group1 = Data[Data['Время подготовки'] < 50]['Результат']\n",
    "group2 = Data[Data['Время подготовки'] >= 50]['Результат']\n",
    "\n",
    "mean1 = group1.mean()\n",
    "mean2 = group2.mean()\n",
    "var1 = group1.var(ddof=1)\n",
    "var2 = group2.var(ddof=1)\n",
    "n1 = len(group1)\n",
    "n2 = len(group2)"
   ]
  },
  {
   "cell_type": "markdown",
   "id": "9088c464-1bc1-4850-ab78-639982fa5e57",
   "metadata": {},
   "source": [
    "## t-тест\n",
    "Проведём t-тест через scipy"
   ]
  },
  {
   "cell_type": "code",
   "execution_count": 114,
   "id": "99130630-4eeb-42bc-9d92-25ab6995eb12",
   "metadata": {},
   "outputs": [
    {
     "name": "stdout",
     "output_type": "stream",
     "text": [
      "Проверка гипотез о равенстве средних Y в группах\n",
      "Группа 1 (X < 50): n = 9, mean = 78.00, var = 213.50\n",
      "Группа 2 (X >= 50): n = 11, mean = 99.82, var = 0.36\n",
      "t-статистика = -4.4765\n"
     ]
    }
   ],
   "source": [
    "t_stat_ind, _ = stats.ttest_ind(group1, group2, equal_var=False)\n",
    "print(\"Проверка гипотез о равенстве средних Y в группах\")\n",
    "print(f\"Группа 1 (X < 50): n = {n1}, mean = {mean1:.2f}, var = {var1:.2f}\")\n",
    "print(f\"Группа 2 (X >= 50): n = {n2}, mean = {mean2:.2f}, var = {var2:.2f}\")\n",
    "print(f\"t-статистика = {t_stat_ind:.4f}\")"
   ]
  },
  {
   "cell_type": "code",
   "execution_count": 115,
   "id": "901a59d7-eb37-479a-b30d-a81317161c9b",
   "metadata": {},
   "outputs": [
    {
     "name": "stdout",
     "output_type": "stream",
     "text": [
      "Вывод: |t| > t_critical => отвергаем H0, средние различаются (alpha=0.05).\n"
     ]
    }
   ],
   "source": [
    "t_crit_ind = 2.101\n",
    "if abs(t_stat_ind) > t_crit_ind:\n",
    "    print(\"Вывод: |t| > t_critical => отвергаем H0, средние различаются (alpha=0.05).\")\n",
    "else:\n",
    "    print(\"Вывод: |t| <= t_critical => нет оснований отвергать H0.\")"
   ]
  },
  {
   "cell_type": "markdown",
   "id": "2ad21f22-70a0-45d5-90a4-89a8c0e7d350",
   "metadata": {},
   "source": [
    "# Вывод\n",
    "Группа 1 (X < 50): среднее Y = 78.00, var = 213.50\n",
    "Группа 2 (X > 50): среднее Y = 99.82, var = 0.36 (почти все 100).\n",
    "t = –4.5169, |t| > 2.101, p = 0.00196 < 0.05 => средние статистически значимо разные.\n",
    "Студенты, готовившиеся более 50 часов, в среднем сдали лучше."
   ]
  }
 ],
 "metadata": {
  "kernelspec": {
   "display_name": "Python 3 (ipykernel)",
   "language": "python",
   "name": "python3"
  },
  "language_info": {
   "codemirror_mode": {
    "name": "ipython",
    "version": 3
   },
   "file_extension": ".py",
   "mimetype": "text/x-python",
   "name": "python",
   "nbconvert_exporter": "python",
   "pygments_lexer": "ipython3",
   "version": "3.10.13"
  }
 },
 "nbformat": 4,
 "nbformat_minor": 5
}
